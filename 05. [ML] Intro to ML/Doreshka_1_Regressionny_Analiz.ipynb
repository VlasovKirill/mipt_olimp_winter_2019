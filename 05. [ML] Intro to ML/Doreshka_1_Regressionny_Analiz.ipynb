{
 "cells": [
  {
   "cell_type": "code",
   "execution_count": 7,
   "metadata": {},
   "outputs": [],
   "source": [
    "import numpy as np\n",
    "import matplotlib.pyplot as plt\n",
    "from scipy.stats import norm\n",
    "import random "
   ]
  },
  {
   "cell_type": "markdown",
   "metadata": {},
   "source": [
    "По заданной ниже выборке $(x_i, y_i)$ объема n=50 и уровню значимости $a=0.25$ определить уравнение линейной регрессии в базисе $\\{x,x^2,\\sqrt{x}\\}$."
   ]
  },
  {
   "cell_type": "code",
   "execution_count": 8,
   "metadata": {},
   "outputs": [
    {
     "data": {
      "image/png": "[encoded data removed]",
      "text/plain": [
       "<Figure size 432x288 with 1 Axes>"
      ]
     },
     "metadata": {
      "needs_background": "light"
     },
     "output_type": "display_data"
    }
   ],
   "source": [
    "x = np.array([0.51,0.56,0.59,0.61,0.72,0.72,0.8,0.84,0.93,0.98,0.99,\n",
    "                1.05,1.12,1.13,1.19,1.24,1.33,1.32,1.44,1.48,1.54,1.57,1.61,1.64,1.7,1.77,1.81,1.88,1.93,1.98,\n",
    "                2.06,2.08,2.12,2.22,2.24,2.32,2.34,2.38,2.44,2.5,2.55,2.6,2.64,2.68,2.74,2.8,2.86,2.91,2.96,2.96])\n",
    "y = np.array([4.75,4.24,4.96,4.87,4.32,3.8,5.52,7.24,3.86,4.68,6.16,4.38,2.61,4.96,5.15,4.43,5.1,5.93,3.36,\n",
    "              5.32,5.29,2.99,0.61,3.04,3.01,-0.59,1.26,1.27,-1.06,-1.86,-1.16,-1.91,-0.55,-2.63,-3.3,-5.38,\n",
    "              -3.82,-3.52,-6.73,-7.29,-6.51,-9.35,-8.45,-12.4,-10.63,-10.86,-11.68,-12.9,-14.63,-14.34])\n",
    "n = len (x)\n",
    "p = 3 # число базисных функций\n",
    "plt.plot(x, y, 'g');"
   ]
  },
  {
   "cell_type": "markdown",
   "metadata": {},
   "source": [
    "Где X - координаты\n",
    "    Y - вектор отклика"
   ]
  },
  {
   "cell_type": "markdown",
   "metadata": {},
   "source": [
    "<img src=\"q.png\" width=500 height=500 />"
   ]
  },
  {
   "cell_type": "markdown",
   "metadata": {},
   "source": [
    "## Определим степень корреляции вектора отклика от координат"
   ]
  },
  {
   "cell_type": "markdown",
   "metadata": {},
   "source": [
    "<img src=\"cor.png\" width=500 height=500 />"
   ]
  },
  {
   "cell_type": "code",
   "execution_count": 9,
   "metadata": {},
   "outputs": [
    {
     "name": "stdout",
     "output_type": "stream",
     "text": [
      "0.9211335699280324\n"
     ]
    }
   ],
   "source": [
    "def average(x):\n",
    "    return sum(x)/len(x)\n",
    "\n",
    "def tmp_sum(x, average, power):\n",
    "    tmp = 0\n",
    "    for i in range(0, len(x)):\n",
    "        tmp += pow(x[i] - average, power)\n",
    "    return tmp\n",
    "        \n",
    "def correlation_coefficient(x, y):\n",
    "    tmp = 0\n",
    "    x_av = average(x)\n",
    "    y_av = average(y)\n",
    "    for i in range(0, len(x)):\n",
    "        tmp += (x[i] - x_av)*(y[i] - y_av)\n",
    "    return abs(tmp/np.sqrt(tmp_sum(x, x_av, 2)*tmp_sum(y, y_av, 2)))\n",
    "    \n",
    "print(correlation_coefficient(x,y))"
   ]
  },
  {
   "cell_type": "markdown",
   "metadata": {},
   "source": [
    "Статистически значимо при (доверительный интервал): $$|r|>=th(\\frac{U_a}{\\sqrt{n-p}})$$"
   ]
  },
  {
   "cell_type": "code",
   "execution_count": 10,
   "metadata": {},
   "outputs": [
    {
     "name": "stdout",
     "output_type": "stream",
     "text": [
      "0.2783471823538262\n"
     ]
    }
   ],
   "source": [
    "#Quantile[NormalDistribution[0,1], 0.975] = 1.95996\n",
    "print(np.tanh(1.95996/np.sqrt(50-3)))"
   ]
  },
  {
   "cell_type": "markdown",
   "metadata": {},
   "source": [
    "0.921 > 0.278 => коэфициент кореляции значим"
   ]
  },
  {
   "cell_type": "markdown",
   "metadata": {},
   "source": [
    "## Определим уравнение линейной регрессии"
   ]
  },
  {
   "cell_type": "markdown",
   "metadata": {},
   "source": [
    "Запишем матрицу наблюдения PSI"
   ]
  },
  {
   "cell_type": "code",
   "execution_count": 11,
   "metadata": {},
   "outputs": [],
   "source": [
    "PSI = (x, [t*t for t in x], [np.sqrt(t) for t in x])\n",
    "PSI = np.array(PSI).transpose()\n",
    "Y = y.transpose()"
   ]
  },
  {
   "cell_type": "code",
   "execution_count": 12,
   "metadata": {
    "scrolled": true
   },
   "outputs": [
    {
     "data": {
      "text/plain": [
       "array([[0.51      , 0.2601    , 0.71414284],\n",
       "       [0.56      , 0.3136    , 0.74833148],\n",
       "       [0.59      , 0.3481    , 0.76811457],\n",
       "       [0.61      , 0.3721    , 0.78102497],\n",
       "       [0.72      , 0.5184    , 0.84852814],\n",
       "       [0.72      , 0.5184    , 0.84852814],\n",
       "       [0.8       , 0.64      , 0.89442719],\n",
       "       [0.84      , 0.7056    , 0.91651514],\n",
       "       [0.93      , 0.8649    , 0.96436508],\n",
       "       [0.98      , 0.9604    , 0.98994949]])"
      ]
     },
     "execution_count": 12,
     "metadata": {},
     "output_type": "execute_result"
    }
   ],
   "source": [
    "PSI[:10,:]"
   ]
  },
  {
   "cell_type": "markdown",
   "metadata": {},
   "source": [
    "Найдем оценку коэфициентов регрессии:"
   ]
  },
  {
   "cell_type": "code",
   "execution_count": 13,
   "metadata": {
    "scrolled": true
   },
   "outputs": [
    {
     "name": "stdout",
     "output_type": "stream",
     "text": [
      "y = 5.615056660921895 *x + -4.288844412939436 *x^2 + 3.7785582876911454 *sqrt(x)\n"
     ]
    }
   ],
   "source": [
    "F = np.matmul(PSI.transpose(),PSI)\n",
    "\n",
    "F_1 = np.linalg.inv(F)\n",
    "#print(F_1)\n",
    "_betta = np.matmul(F_1,PSI.transpose())\n",
    "#print(_betta)\n",
    "_betta = np.matmul(_betta,Y)\n",
    "print(\"y =\",_betta[0],\"*x +\",_betta[1],\"*x^2 +\",_betta[2],\"*sqrt(x)\")"
   ]
  },
  {
   "cell_type": "markdown",
   "metadata": {},
   "source": [
    "## Посчитаем остаточную сумму квадратов и оценку погрешности:"
   ]
  },
  {
   "cell_type": "markdown",
   "metadata": {},
   "source": [
    "RSS - MSE, которая не описывается полученной функцией (обычно случайный шум)"
   ]
  },
  {
   "cell_type": "code",
   "execution_count": 14,
   "metadata": {},
   "outputs": [
    {
     "name": "stdout",
     "output_type": "stream",
     "text": [
      "RSS =  60.72138776086695\n"
     ]
    }
   ],
   "source": [
    "RSS = np.matmul((Y-np.matmul(PSI,_betta)).transpose(),(Y-np.matmul(PSI,_betta)))\n",
    "print(\"RSS = \",RSS)"
   ]
  },
  {
   "cell_type": "markdown",
   "metadata": {},
   "source": [
    "$\\sigma^2$ - Оценка среднеквадратичного отклонения."
   ]
  },
  {
   "cell_type": "code",
   "execution_count": 15,
   "metadata": {},
   "outputs": [
    {
     "name": "stdout",
     "output_type": "stream",
     "text": [
      "sigma =  1.2919444204439778\n"
     ]
    }
   ],
   "source": [
    "sigma = RSS/(n - p)\n",
    "print(\"sigma = \",sigma)"
   ]
  },
  {
   "cell_type": "markdown",
   "metadata": {},
   "source": [
    "## Убедимся в значимости всей функции регрессии:"
   ]
  },
  {
   "cell_type": "markdown",
   "metadata": {},
   "source": [
    "MSE, которая не описывается полученной функцией (обычно случайный шум)"
   ]
  },
  {
   "cell_type": "code",
   "execution_count": 16,
   "metadata": {},
   "outputs": [
    {
     "data": {
      "text/plain": [
       "1997.159928"
      ]
     },
     "execution_count": 16,
     "metadata": {},
     "output_type": "execute_result"
    }
   ],
   "source": [
    "sum((Y-average(Y))*(Y-average(Y)))"
   ]
  },
  {
   "cell_type": "code",
   "execution_count": 17,
   "metadata": {},
   "outputs": [
    {
     "name": "stdout",
     "output_type": "stream",
     "text": [
      "Функция регрессии объясняет порядка 97.0 % разброса значений\n"
     ]
    }
   ],
   "source": [
    "RSS_1 = sum((Y-average(Y))*(Y-average(Y)))\n",
    "print(\"Функция регрессии объясняет порядка\",round((RSS_1-RSS)/RSS_1*100),\"% разброса значений\")"
   ]
  },
  {
   "cell_type": "markdown",
   "metadata": {},
   "source": [
    "## Оценим значимость коэфициентов регрессии:"
   ]
  },
  {
   "cell_type": "code",
   "execution_count": 18,
   "metadata": {},
   "outputs": [
    {
     "name": "stdout",
     "output_type": "stream",
     "text": [
      "RSS =  60.72138776086695\n",
      " _betta_1 =  5.615056660921895  >?  4.978511748803015 \n",
      " _betta_2 =  4.288844412939436  >?  0.9221180381546575 \n",
      " _betta_3 =  3.7785582876911454  >?  4.288320341782351\n"
     ]
    }
   ],
   "source": [
    "RSS = np.matmul((Y-np.matmul(PSI,_betta)).transpose(),(Y-np.matmul(PSI,_betta)))\n",
    "print(\"RSS = \",RSS)\n",
    "#  Quantile[StudentDistribution[47], 0.975] = 2.01174\n",
    "t_a = 2.01174\n",
    "print(\" _betta_1 = \",abs(_betta[0]) ,\" >? \" ,t_a*np.sqrt(RSS*F_1[0][0]/47),\n",
    "      \"\\n _betta_2 = \",abs(_betta[1]) ,\" >? \" ,t_a*np.sqrt(RSS*F_1[1][1]/47),\n",
    "      \"\\n _betta_3 = \",abs(_betta[2]) ,\" >? \" ,t_a*np.sqrt(RSS*F_1[2][2]/47))"
   ]
  },
  {
   "cell_type": "markdown",
   "metadata": {},
   "source": [
    "Значит, коэффициен при $\\sqrt{x}$ - не является значимо отличимым от нуля"
   ]
  },
  {
   "cell_type": "markdown",
   "metadata": {},
   "source": [
    "##  Доверительная полоса для уравнения реграссии"
   ]
  },
  {
   "cell_type": "code",
   "execution_count": 19,
   "metadata": {},
   "outputs": [],
   "source": [
    "gamma = 0.95\n",
    "def f_u(x):\n",
    "    psi = np.array([x, x*x, np.sqrt(x)])\n",
    "    return  5.615056660921928*x - 4.288844412939487*x**2 + 3.778558287691048*np.sqrt(x)\\\n",
    "                + 2.011*gamma*np.sqrt(RSS/47)*np.sqrt(1 + np.matmul(np.matmul(psi, F_1), psi.transpose()))\n",
    "def f_d(x):\n",
    "    psi = np.array([x, x*x, np.sqrt(x)])\n",
    "    return  5.615056660921928*x - 4.288844412939487*x**2 + 3.778558287691048*np.sqrt(x)\\\n",
    "                - 2.011*gamma*np.sqrt(RSS/47)*np.sqrt(1 + np.matmul(np.matmul(psi, F_1), psi.transpose()))\n",
    "def f(x):\n",
    "    return  5.615056660921928*x - 4.288844412939487*x**2 + 3.778558287691048*np.sqrt(x)\n"
   ]
  },
  {
   "cell_type": "code",
   "execution_count": 20,
   "metadata": {
    "scrolled": true
   },
   "outputs": [
    {
     "data": {
      "image/png": "[encoded data removed]",
      "text/plain": [
       "<Figure size 576x396 with 1 Axes>"
      ]
     },
     "metadata": {
      "needs_background": "light"
     },
     "output_type": "display_data"
    }
   ],
   "source": [
    "x = np.array([0.51,0.56,0.59,0.61,0.72,0.72,0.8,0.84,0.93,0.98,0.99,\n",
    "                1.05,1.12,1.13,1.19,1.24,1.33,1.32,1.44,1.48,1.54,1.57,1.61,1.64,1.7,1.77,1.81,1.88,1.93,1.98,\n",
    "                2.06,2.08,2.12,2.22,2.24,2.32,2.34,2.38,2.44,2.5,2.55,2.6,2.64,2.68,2.74,2.8,2.86,2.91,2.96,2.96])\n",
    "y = np.array([4.75,4.24,4.96,4.87,4.32,3.8,5.52,7.24,3.86,4.68,6.16,4.38,2.61,4.96,5.15,4.43,5.1,5.93,3.36,\n",
    "              5.32,5.29,2.99,0.61,3.04,3.01,-0.59,1.26,1.27,-1.06,-1.86,-1.16,-1.91,-0.55,-2.63,-3.3,-5.38,\n",
    "              -3.82,-3.52,-6.73,-7.29,-6.51,-9.35,-8.45,-12.4,-10.63,-10.86,-11.68,-12.9,-14.63,-14.34])\n",
    "xs = np.linspace(0.5,3,100)\n",
    "F_u = np.vectorize(f_u)\n",
    "F_d = np.vectorize(f_d)\n",
    "F = np.vectorize(f)\n",
    "plt.figure(figsize=(8,5.5))\n",
    "plt.plot(x, y, 'g');\n",
    "plt.plot(xs, F_u(xs), 'r');\n",
    "plt.plot(xs, F_d(xs), 'r');\n",
    "plt.plot(xs, F(xs), 'b');"
   ]
  },
  {
   "cell_type": "markdown",
   "metadata": {},
   "source": [
    "## Удалим из базиса не значимую функцию"
   ]
  },
  {
   "cell_type": "code",
   "execution_count": 21,
   "metadata": {},
   "outputs": [
    {
     "name": "stdout",
     "output_type": "stream",
     "text": [
      "y =  9.958479800940832 *x +  -5.058102016640299 *x^2\n",
      "RSS =  64.7808204519242\n",
      " _betta_1 =  9.958479800940832  >?  0.7126331087317475 \n",
      " _betta_2 =  5.058102016640299  >?  0.30321225676941954\n"
     ]
    }
   ],
   "source": [
    "PSI = (x, [t*t for t in x])\n",
    "PSI = np.array(PSI).transpose()\n",
    "Y = y.transpose()\n",
    "F = np.matmul(PSI.transpose(),PSI)\n",
    "\n",
    "F_1 = np.linalg.inv(F)\n",
    "#print(F_1)\n",
    "_betta = np.matmul(F_1,PSI.transpose())\n",
    "#print(_betta)\n",
    "_betta = np.matmul(_betta,Y)\n",
    "print(\"y = \",_betta[0],\"*x + \",_betta[1],\"*x^2\")\n",
    "#print(np.diag([1,2,3]))\n",
    "RSS = np.matmul((Y-np.matmul(PSI,_betta)).transpose(),(Y-np.matmul(PSI,_betta)))\n",
    "print(\"RSS = \",RSS)\n",
    "#  Quantile[StudentDistribution[48], 0.975] = 2.01063\n",
    "t_a = 2.01063\n",
    "print(\" _betta_1 = \",abs(_betta[0]) ,\" >? \" ,t_a*np.sqrt(RSS*F_1[0][0]/48),\n",
    "      \"\\n _betta_2 = \",abs(_betta[1]) ,\" >? \" ,t_a*np.sqrt(RSS*F_1[1][1]/48))"
   ]
  },
  {
   "cell_type": "code",
   "execution_count": 22,
   "metadata": {},
   "outputs": [
    {
     "name": "stdout",
     "output_type": "stream",
     "text": [
      "оценка дисперсии ошибок:  1.3496004260817542\n",
      "RSS/b =  0.9385450628044177  <?  1.3496004260817542  <?  2.106385096552511\n"
     ]
    }
   ],
   "source": [
    "_sigm_2_2 = RSS/48\n",
    "print(\"оценка дисперсии ошибок: \",_sigm_2_2)\n",
    "# Quantile[Chi-squaredDistribution[48], 0.975] = 69.0226\n",
    "print(\"RSS/b = \",RSS/69.0226, \" <? \", _sigm_2_2, \" <? \",RSS/30.7545)"
   ]
  },
  {
   "cell_type": "code",
   "execution_count": 23,
   "metadata": {},
   "outputs": [
    {
     "name": "stdout",
     "output_type": "stream",
     "text": [
      "R =  0.9675635288172454\n",
      "22.737742927205268  >?  3.19073\n"
     ]
    }
   ],
   "source": [
    "RSS_1 = tmp_sum(y, average(y), 2)\n",
    "y_model =  _betta[0] *x +  _betta[1] *x*x\n",
    "tmp = 0\n",
    "for i in range (0, len(x)):\n",
    "    tmp += pow(y[i] - y_model[i], 2)\n",
    "RSS_2 = tmp\n",
    "R = (RSS_1 - RSS_2)/RSS_1\n",
    "\n",
    "print(\"R = \", R)\n",
    "# Quantile[f-Distribution[2,48],0.95] = 3.19073\n",
    "print(R*(47)/2, \" >? \", 3.19073)"
   ]
  },
  {
   "cell_type": "markdown",
   "metadata": {},
   "source": [
    "## для p = 3 : R =0.9695961315318025 , для p = 2, R = 0.9675635288172454\n",
    "\n",
    "## delta R = 0.0020326027145570746"
   ]
  },
  {
   "cell_type": "markdown",
   "metadata": {},
   "source": [
    "## Проверка значимости Бутстрепом "
   ]
  },
  {
   "cell_type": "markdown",
   "metadata": {},
   "source": [
    "<img src=\"bootstrap.png\" width=900 height=600 />"
   ]
  },
  {
   "cell_type": "code",
   "execution_count": 24,
   "metadata": {},
   "outputs": [
    {
     "name": "stdout",
     "output_type": "stream",
     "text": [
      "-0.25931059081203883  <  2.32635\n"
     ]
    }
   ],
   "source": [
    "N = 50 \n",
    "theta = 100 \n",
    "selection = [] \n",
    "for i in range(N): \n",
    "    selection.append(np.random.uniform(0, theta)) \n",
    "    count = 0 \n",
    "for i in range(len(selection)): \n",
    "    for j in range(i + 1, len(selection)): \n",
    "        if selection[i] > selection[j]: \n",
    "            count += 1 \n",
    "G = (12*count - 3*N*(N-1))/np.sqrt(4*pow(N, 3)+6*N*N-10*N) \n",
    "print(G, ' < ', 2.32635)"
   ]
  },
  {
   "cell_type": "markdown",
   "metadata": {},
   "source": [
    "## значит числа случайные"
   ]
  },
  {
   "cell_type": "code",
   "execution_count": 25,
   "metadata": {},
   "outputs": [],
   "source": [
    "def buildBootstrap(selection, size): \n",
    "    sel = [] \n",
    "    for i in range(size): \n",
    "        sel.append(0) \n",
    "        for j in range(len(selection)): \n",
    "            sel[i] += 2*selection[random.randint(0, len(selection) - 1)]/len(selection) \n",
    "    return sorted(sel)"
   ]
  },
  {
   "cell_type": "code",
   "execution_count": 26,
   "metadata": {},
   "outputs": [
    {
     "name": "stdout",
     "output_type": "stream",
     "text": [
      "0.9482435459672722  <  0.9675635288172454  <  0.980022189638544\n"
     ]
    }
   ],
   "source": [
    "\n",
    "def buildBootstrap(x, y, size): \n",
    "    res = [] \n",
    "    for _ in range(size): \n",
    "        n_x = [] \n",
    "        n_y = [] \n",
    "        for j in range(len(x)): \n",
    "            k = random.randint(0, len(x) - 1) \n",
    "            n_x.append(x[k]) \n",
    "            n_y.append(y[k]) \n",
    "        RSS1_tmp = 0 \n",
    "        y_av_n = average(n_y) \n",
    "        for k in range(len(n_y)): \n",
    "            RSS1_tmp += (n_y[k] - y_av_n)*(n_y[k] - y_av_n) \n",
    "        y_model_tmp = [] \n",
    "        RSS2_tmp = 0 \n",
    "        for i in range(len(n_y)): \n",
    "            y_model_tmp.append(_betta[0]*n_x[i] + _betta[1]*n_x[i]*n_x[i]) \n",
    "            RSS2_tmp += (y_model_tmp[i] - n_y[i])*(y_model_tmp[i] - n_y[i]) \n",
    "        res.append((RSS1_tmp - RSS2_tmp)/RSS1_tmp) \n",
    "    return sorted(res)\n",
    "bbt = buildBootstrap(x, y, 1000)\n",
    "print(bbt[25], \" < \",0.9675635288172454,\" < \", bbt[975])"
   ]
  },
  {
   "cell_type": "markdown",
   "metadata": {},
   "source": [
    "## Кросс-проверка в новом базисе"
   ]
  },
  {
   "cell_type": "code",
   "execution_count": 27,
   "metadata": {},
   "outputs": [
    {
     "name": "stdout",
     "output_type": "stream",
     "text": [
      "0.964863376029446\n"
     ]
    }
   ],
   "source": [
    "def regr(i):\n",
    "    _x = []\n",
    "    _y = []\n",
    "    for index in range(len(x)):\n",
    "        if(index != i):\n",
    "            _x.append(x[index])\n",
    "            _y.append(y[index])\n",
    "    PSI = (_x, [t*t for t in _x])\n",
    "    PSI = np.array(PSI).transpose()\n",
    "    F = np.matmul(PSI.transpose(),PSI)\n",
    "\n",
    "    F_1 = np.linalg.inv(F)\n",
    "    #print(F_1)\n",
    "    _betta = np.matmul(F_1,PSI.transpose())\n",
    "    #print(_betta)\n",
    "    _betta = np.matmul(_betta,_y)\n",
    "    return _betta\n",
    "\n",
    "dif = 0\n",
    "for index in range(len(x)):\n",
    "    betta = regr(index)\n",
    "    dif += (y[index] - (x[index]*betta[0] + x[index]*x[index]*betta[1]))**2\n",
    "R = (RSS_1 - dif)/RSS_1\n",
    "print (R)\n",
    "    "
   ]
  },
  {
   "cell_type": "code",
   "execution_count": null,
   "metadata": {},
   "outputs": [],
   "source": []
  },
  {
   "cell_type": "code",
   "execution_count": null,
   "metadata": {},
   "outputs": [],
   "source": []
  }
 ],
 "metadata": {
  "hide_input": false,
  "kernelspec": {
   "display_name": "Python 3",
   "language": "python",
   "name": "python3"
  },
  "language_info": {
   "codemirror_mode": {
    "name": "ipython",
    "version": 3
   },
   "file_extension": ".py",
   "mimetype": "text/x-python",
   "name": "python",
   "nbconvert_exporter": "python",
   "pygments_lexer": "ipython3",
   "version": "3.7.7"
  },
  "toc": {
   "base_numbering": 1,
   "nav_menu": {},
   "number_sections": true,
   "sideBar": true,
   "skip_h1_title": false,
   "title_cell": "Table of Contents",
   "title_sidebar": "Contents",
   "toc_cell": false,
   "toc_position": {},
   "toc_section_display": true,
   "toc_window_display": false
  },
  "varInspector": {
   "cols": {
    "lenName": 16,
    "lenType": 16,
    "lenVar": 40
   },
   "kernels_config": {
    "python": {
     "delete_cmd_postfix": "",
     "delete_cmd_prefix": "del ",
     "library": "var_list.py",
     "varRefreshCmd": "print(var_dic_list())"
    },
    "r": {
     "delete_cmd_postfix": ") ",
     "delete_cmd_prefix": "rm(",
     "library": "var_list.r",
     "varRefreshCmd": "cat(var_dic_list()) "
    }
   },
   "types_to_exclude": [
    "module",
    "function",
    "builtin_function_or_method",
    "instance",
    "_Feature"
   ],
   "window_display": false
  }
 },
 "nbformat": 4,
 "nbformat_minor": 2
}
