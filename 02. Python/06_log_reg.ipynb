{
 "cells": [
  {
   "cell_type": "code",
   "execution_count": 1,
   "metadata": {},
   "outputs": [
    {
     "name": "stderr",
     "output_type": "stream",
     "text": [
      "C:\\ProgramData\\Anaconda3\\lib\\site-packages\\numpy\\_distributor_init.py:32: UserWarning: loaded more than 1 DLL from .libs:\n",
      "C:\\ProgramData\\Anaconda3\\lib\\site-packages\\numpy\\.libs\\libopenblas.IPBC74C7KURV7CB2PKT5Z5FNR3SIBV4J.gfortran-win_amd64.dll\n",
      "C:\\ProgramData\\Anaconda3\\lib\\site-packages\\numpy\\.libs\\libopenblas.PYQHXLVVQ7VESDPUVUADXEVJOBGHJPAY.gfortran-win_amd64.dll\n",
      "  stacklevel=1)\n"
     ]
    }
   ],
   "source": [
    "import pandas as pd\n",
    "import numpy as np\n",
    "import matplotlib.pyplot as plt\n",
    "import torch\n",
    "\n",
    "%matplotlib inline"
   ]
  },
  {
   "cell_type": "code",
   "execution_count": 2,
   "metadata": {},
   "outputs": [],
   "source": [
    "data = pd.read_csv(\"data/weight-height.csv\")\n",
    "\n",
    "data[\"height_cm\"] = data[\"Height\"]*2.54\n",
    "data[\"weight_kg\"] = data[\"Weight\"]*0.453592\n",
    "data = data.drop([\"Height\", \"Weight\"], 1)\n",
    "data[\"factor\"] = data.weight_kg / data.height_cm\n",
    "data[\"Gender\"] = data[\"Gender\"].apply(lambda x: int(x == \"Male\"))"
   ]
  },
  {
   "cell_type": "code",
   "execution_count": 3,
   "metadata": {},
   "outputs": [
    {
     "data": {
      "text/html": [
       "<div>\n",
       "<style scoped>\n",
       "    .dataframe tbody tr th:only-of-type {\n",
       "        vertical-align: middle;\n",
       "    }\n",
       "\n",
       "    .dataframe tbody tr th {\n",
       "        vertical-align: top;\n",
       "    }\n",
       "\n",
       "    .dataframe thead th {\n",
       "        text-align: right;\n",
       "    }\n",
       "</style>\n",
       "<table border=\"1\" class=\"dataframe\">\n",
       "  <thead>\n",
       "    <tr style=\"text-align: right;\">\n",
       "      <th></th>\n",
       "      <th>Gender</th>\n",
       "      <th>height_cm</th>\n",
       "      <th>weight_kg</th>\n",
       "      <th>factor</th>\n",
       "    </tr>\n",
       "  </thead>\n",
       "  <tbody>\n",
       "    <tr>\n",
       "      <th>0</th>\n",
       "      <td>1</td>\n",
       "      <td>187.571423</td>\n",
       "      <td>109.720985</td>\n",
       "      <td>0.584956</td>\n",
       "    </tr>\n",
       "    <tr>\n",
       "      <th>1</th>\n",
       "      <td>1</td>\n",
       "      <td>174.706036</td>\n",
       "      <td>73.622732</td>\n",
       "      <td>0.421409</td>\n",
       "    </tr>\n",
       "    <tr>\n",
       "      <th>2</th>\n",
       "      <td>1</td>\n",
       "      <td>188.239668</td>\n",
       "      <td>96.497550</td>\n",
       "      <td>0.512631</td>\n",
       "    </tr>\n",
       "    <tr>\n",
       "      <th>3</th>\n",
       "      <td>1</td>\n",
       "      <td>182.196685</td>\n",
       "      <td>99.809504</td>\n",
       "      <td>0.547812</td>\n",
       "    </tr>\n",
       "    <tr>\n",
       "      <th>4</th>\n",
       "      <td>1</td>\n",
       "      <td>177.499761</td>\n",
       "      <td>93.598619</td>\n",
       "      <td>0.527317</td>\n",
       "    </tr>\n",
       "  </tbody>\n",
       "</table>\n",
       "</div>"
      ],
      "text/plain": [
       "   Gender   height_cm   weight_kg    factor\n",
       "0       1  187.571423  109.720985  0.584956\n",
       "1       1  174.706036   73.622732  0.421409\n",
       "2       1  188.239668   96.497550  0.512631\n",
       "3       1  182.196685   99.809504  0.547812\n",
       "4       1  177.499761   93.598619  0.527317"
      ]
     },
     "execution_count": 3,
     "metadata": {},
     "output_type": "execute_result"
    }
   ],
   "source": [
    "data.head()\n"
   ]
  },
  {
   "cell_type": "code",
   "execution_count": 7,
   "metadata": {},
   "outputs": [
    {
     "data": {
      "image/png": "[encoded data removed]",
      "text/plain": [
       "<Figure size 432x288 with 1 Axes>"
      ]
     },
     "metadata": {
      "needs_background": "light"
     },
     "output_type": "display_data"
    }
   ],
   "source": [
    "plt.scatter(data.weight_kg, data.Gender, marker=\".\", alpha=0.5);"
   ]
  },
  {
   "cell_type": "markdown",
   "metadata": {},
   "source": [
    "$$\\sigma (X) = \\frac{1}{1+e^{-X}}$$\n",
    "\n",
    "$$\\frac{d\\sigma (X)}{dX} = \\sigma(X)*(1-\\sigma(X))$$"
   ]
  },
  {
   "cell_type": "markdown",
   "metadata": {},
   "source": [
    "$$NLLLoss (CrossEntropy, LogLoss) = \\sum_{i=1}^{N} \\left( y^*_i* log(y_i) + (1-y^*_i)*log(1-y_i)\\right)$$\n",
    "\n",
    "$$NLLLoss = \\sum_{i=1}^{N} \\left( y^*_i* log(\\sigma(k*x_i+b)) + (1-y^*_i)*log(1-\\sigma(k*x_i+b))\\right)$$"
   ]
  },
  {
   "cell_type": "code",
   "execution_count": 8,
   "metadata": {},
   "outputs": [],
   "source": [
    "X = data[[\"weight_kg\", \"height_cm\"]].values\n",
    "y = data[\"Gender\"].values"
   ]
  },
  {
   "cell_type": "code",
   "execution_count": 9,
   "metadata": {},
   "outputs": [],
   "source": [
    "from sklearn.model_selection import train_test_split"
   ]
  },
  {
   "cell_type": "code",
   "execution_count": 10,
   "metadata": {},
   "outputs": [],
   "source": [
    "X_train, X_val, y_train, y_val = train_test_split(X, y, test_size=0.2, stratify=data.Gender)"
   ]
  },
  {
   "cell_type": "code",
   "execution_count": null,
   "metadata": {},
   "outputs": [],
   "source": []
  },
  {
   "cell_type": "code",
   "execution_count": 16,
   "metadata": {},
   "outputs": [
    {
     "name": "stderr",
     "output_type": "stream",
     "text": [
      "C:\\ProgramData\\Anaconda3\\lib\\site-packages\\ipykernel_launcher.py:1: UserWarning: To copy construct from a tensor, it is recommended to use sourceTensor.clone().detach() or sourceTensor.clone().detach().requires_grad_(True), rather than torch.tensor(sourceTensor).\n",
      "  \"\"\"Entry point for launching an IPython kernel.\n",
      "C:\\ProgramData\\Anaconda3\\lib\\site-packages\\ipykernel_launcher.py:2: UserWarning: To copy construct from a tensor, it is recommended to use sourceTensor.clone().detach() or sourceTensor.clone().detach().requires_grad_(True), rather than torch.tensor(sourceTensor).\n",
      "  \n",
      "C:\\ProgramData\\Anaconda3\\lib\\site-packages\\ipykernel_launcher.py:3: UserWarning: To copy construct from a tensor, it is recommended to use sourceTensor.clone().detach() or sourceTensor.clone().detach().requires_grad_(True), rather than torch.tensor(sourceTensor).\n",
      "  This is separate from the ipykernel package so we can avoid doing imports until\n",
      "C:\\ProgramData\\Anaconda3\\lib\\site-packages\\ipykernel_launcher.py:4: UserWarning: To copy construct from a tensor, it is recommended to use sourceTensor.clone().detach() or sourceTensor.clone().detach().requires_grad_(True), rather than torch.tensor(sourceTensor).\n",
      "  after removing the cwd from sys.path.\n"
     ]
    }
   ],
   "source": [
    "X_train = torch.tensor(X_train, dtype=torch.float32).cuda()\n",
    "X_val = torch.tensor(X_val, dtype=torch.float32).cuda()\n",
    "y_train = torch.tensor(y_train, dtype=torch.float32).cuda()\n",
    "y_val = torch.tensor(y_val, dtype=torch.float32).cuda()"
   ]
  },
  {
   "cell_type": "code",
   "execution_count": 26,
   "metadata": {},
   "outputs": [],
   "source": [
    "linear = torch.nn.Linear(2, 1)\n",
    "linear = linear.to(\"cuda\")"
   ]
  },
  {
   "cell_type": "code",
   "execution_count": 27,
   "metadata": {
    "scrolled": true
   },
   "outputs": [
    {
     "name": "stdout",
     "output_type": "stream",
     "text": [
      "tensor(2.2831, device='cuda:0')\n",
      "tensor(2.1844, device='cuda:0')\n",
      "tensor(2.0870, device='cuda:0')\n",
      "tensor(1.9909, device='cuda:0')\n",
      "tensor(1.8965, device='cuda:0')\n",
      "tensor(1.8037, device='cuda:0')\n",
      "tensor(1.7128, device='cuda:0')\n",
      "tensor(1.6238, device='cuda:0')\n",
      "tensor(1.5370, device='cuda:0')\n",
      "tensor(1.4523, device='cuda:0')\n",
      "tensor(1.3700, device='cuda:0')\n",
      "tensor(1.2902, device='cuda:0')\n",
      "tensor(1.2130, device='cuda:0')\n",
      "tensor(1.1385, device='cuda:0')\n",
      "tensor(1.0669, device='cuda:0')\n",
      "tensor(0.9981, device='cuda:0')\n",
      "tensor(0.9324, device='cuda:0')\n",
      "tensor(0.8698, device='cuda:0')\n",
      "tensor(0.8104, device='cuda:0')\n",
      "tensor(0.7542, device='cuda:0')\n",
      "tensor(0.7012, device='cuda:0')\n",
      "tensor(0.6515, device='cuda:0')\n",
      "tensor(0.6049, device='cuda:0')\n",
      "tensor(0.5616, device='cuda:0')\n",
      "tensor(0.5215, device='cuda:0')\n",
      "tensor(0.4845, device='cuda:0')\n",
      "tensor(0.4504, device='cuda:0')\n",
      "tensor(0.4193, device='cuda:0')\n",
      "tensor(0.3910, device='cuda:0')\n",
      "tensor(0.3654, device='cuda:0')\n",
      "tensor(0.3424, device='cuda:0')\n",
      "tensor(0.3218, device='cuda:0')\n",
      "tensor(0.3035, device='cuda:0')\n",
      "tensor(0.2874, device='cuda:0')\n",
      "tensor(0.2733, device='cuda:0')\n",
      "tensor(0.2610, device='cuda:0')\n",
      "tensor(0.2504, device='cuda:0')\n",
      "tensor(0.2414, device='cuda:0')\n",
      "tensor(0.2339, device='cuda:0')\n",
      "tensor(0.2276, device='cuda:0')\n",
      "tensor(0.2225, device='cuda:0')\n",
      "tensor(0.2184, device='cuda:0')\n",
      "tensor(0.2152, device='cuda:0')\n",
      "tensor(0.2127, device='cuda:0')\n",
      "tensor(0.2109, device='cuda:0')\n",
      "tensor(0.2097, device='cuda:0')\n",
      "tensor(0.2090, device='cuda:0')\n",
      "tensor(0.2086, device='cuda:0')\n",
      "tensor(0.2086, device='cuda:0')\n",
      "tensor(0.2087, device='cuda:0')\n",
      "tensor(0.2090, device='cuda:0')\n",
      "tensor(0.2095, device='cuda:0')\n",
      "tensor(0.2100, device='cuda:0')\n",
      "tensor(0.2105, device='cuda:0')\n",
      "tensor(0.2110, device='cuda:0')\n",
      "tensor(0.2115, device='cuda:0')\n",
      "tensor(0.2120, device='cuda:0')\n",
      "tensor(0.2123, device='cuda:0')\n",
      "tensor(0.2126, device='cuda:0')\n",
      "tensor(0.2129, device='cuda:0')\n",
      "tensor(0.2130, device='cuda:0')\n",
      "tensor(0.2131, device='cuda:0')\n",
      "tensor(0.2131, device='cuda:0')\n",
      "tensor(0.2130, device='cuda:0')\n",
      "tensor(0.2129, device='cuda:0')\n",
      "tensor(0.2127, device='cuda:0')\n",
      "tensor(0.2125, device='cuda:0')\n",
      "tensor(0.2122, device='cuda:0')\n",
      "tensor(0.2120, device='cuda:0')\n",
      "tensor(0.2117, device='cuda:0')\n",
      "tensor(0.2114, device='cuda:0')\n",
      "tensor(0.2111, device='cuda:0')\n",
      "tensor(0.2108, device='cuda:0')\n",
      "tensor(0.2105, device='cuda:0')\n",
      "tensor(0.2102, device='cuda:0')\n",
      "tensor(0.2100, device='cuda:0')\n",
      "tensor(0.2097, device='cuda:0')\n",
      "tensor(0.2095, device='cuda:0')\n",
      "tensor(0.2094, device='cuda:0')\n",
      "tensor(0.2092, device='cuda:0')\n",
      "tensor(0.2090, device='cuda:0')\n",
      "tensor(0.2089, device='cuda:0')\n",
      "tensor(0.2088, device='cuda:0')\n",
      "tensor(0.2087, device='cuda:0')\n",
      "tensor(0.2087, device='cuda:0')\n",
      "tensor(0.2086, device='cuda:0')\n",
      "tensor(0.2086, device='cuda:0')\n",
      "tensor(0.2086, device='cuda:0')\n",
      "tensor(0.2086, device='cuda:0')\n",
      "tensor(0.2085, device='cuda:0')\n",
      "tensor(0.2085, device='cuda:0')\n",
      "tensor(0.2085, device='cuda:0')\n",
      "tensor(0.2086, device='cuda:0')\n",
      "tensor(0.2086, device='cuda:0')\n",
      "tensor(0.2086, device='cuda:0')\n",
      "tensor(0.2086, device='cuda:0')\n",
      "tensor(0.2086, device='cuda:0')\n",
      "tensor(0.2086, device='cuda:0')\n",
      "tensor(0.2086, device='cuda:0')\n",
      "tensor(0.2086, device='cuda:0')\n",
      "Wall time: 3.47 s\n"
     ]
    }
   ],
   "source": [
    "%%time\n",
    "loss_f = torch.nn.BCELoss()\n",
    "opt = torch.optim.Adam(linear.parameters(), lr=1e-3)\n",
    "\n",
    "for i in range(100):\n",
    "    out = torch.sigmoid(linear(X_train))\n",
    "    loss = loss_f(out, y_train)\n",
    "    loss.backward()\n",
    "    print(loss.detach())\n",
    "    \n",
    "    opt.step()\n",
    "    opt.zero_grad()"
   ]
  },
  {
   "cell_type": "code",
   "execution_count": null,
   "metadata": {},
   "outputs": [],
   "source": []
  },
  {
   "cell_type": "code",
   "execution_count": 33,
   "metadata": {},
   "outputs": [],
   "source": [
    "with torch.no_grad():\n",
    "    out = torch.sigmoid(linear(X_val))"
   ]
  },
  {
   "cell_type": "code",
   "execution_count": 37,
   "metadata": {},
   "outputs": [],
   "source": [
    "predict = (out > 0.5).T.to(torch.int32)"
   ]
  },
  {
   "cell_type": "code",
   "execution_count": 41,
   "metadata": {},
   "outputs": [
    {
     "data": {
      "text/plain": [
       "tensor(0.9185, device='cuda:0')"
      ]
     },
     "execution_count": 41,
     "metadata": {},
     "output_type": "execute_result"
    }
   ],
   "source": [
    "torch.mean((predict == y_val).to(torch.float32))"
   ]
  },
  {
   "cell_type": "code",
   "execution_count": null,
   "metadata": {},
   "outputs": [],
   "source": []
  }
 ],
 "metadata": {
  "kernelspec": {
   "display_name": "Python 3",
   "language": "python",
   "name": "python3"
  },
  "language_info": {
   "codemirror_mode": {
    "name": "ipython",
    "version": 3
   },
   "file_extension": ".py",
   "mimetype": "text/x-python",
   "name": "python",
   "nbconvert_exporter": "python",
   "pygments_lexer": "ipython3",
   "version": "3.7.1"
  }
 },
 "nbformat": 4,
 "nbformat_minor": 2
}
